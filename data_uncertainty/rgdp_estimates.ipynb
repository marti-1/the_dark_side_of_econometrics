{
 "cells": [
  {
   "cell_type": "code",
   "execution_count": 25,
   "metadata": {},
   "outputs": [
    {
     "name": "stdout",
     "output_type": "stream",
     "text": [
      "The autoreload extension is already loaded. To reload it, use:\n",
      "  %reload_ext autoreload\n"
     ]
    }
   ],
   "source": [
    "import pandas as pd\n",
    "import matplotlib.pyplot as plt\n",
    "import numpy as np\n",
    "import yfinance as yf\n",
    "# load plotly\n",
    "import plotly.graph_objects as go\n",
    "import plotly.express as px\n",
    "plt.style.use('classic')\n",
    "\n",
    "import matplotlib as mpl\n",
    "mpl.rcParams['lines.linewidth'] = 1\n",
    "\n",
    "%load_ext autoreload\n",
    "%autoreload 2\n",
    "%matplotlib inline\n",
    "\n",
    "def pct_error(actual, forecast):\n",
    "    return (actual - forecast)/actual"
   ]
  },
  {
   "cell_type": "code",
   "execution_count": 37,
   "metadata": {},
   "outputs": [
    {
     "data": {
      "text/html": [
       "<div>\n",
       "<style scoped>\n",
       "    .dataframe tbody tr th:only-of-type {\n",
       "        vertical-align: middle;\n",
       "    }\n",
       "\n",
       "    .dataframe tbody tr th {\n",
       "        vertical-align: top;\n",
       "    }\n",
       "\n",
       "    .dataframe thead th {\n",
       "        text-align: right;\n",
       "    }\n",
       "</style>\n",
       "<table border=\"1\" class=\"dataframe\">\n",
       "  <thead>\n",
       "    <tr style=\"text-align: right;\">\n",
       "      <th></th>\n",
       "      <th>First</th>\n",
       "      <th>Second</th>\n",
       "      <th>Third</th>\n",
       "      <th>Most_Recent</th>\n",
       "    </tr>\n",
       "    <tr>\n",
       "      <th>Date</th>\n",
       "      <th></th>\n",
       "      <th></th>\n",
       "      <th></th>\n",
       "      <th></th>\n",
       "    </tr>\n",
       "  </thead>\n",
       "  <tbody>\n",
       "    <tr>\n",
       "      <th>1965-07-01</th>\n",
       "      <td>5.221</td>\n",
       "      <td>5.636</td>\n",
       "      <td>5.636</td>\n",
       "      <td>9.192</td>\n",
       "    </tr>\n",
       "    <tr>\n",
       "      <th>1965-10-01</th>\n",
       "      <td>5.799</td>\n",
       "      <td>7.649</td>\n",
       "      <td>7.649</td>\n",
       "      <td>9.535</td>\n",
       "    </tr>\n",
       "    <tr>\n",
       "      <th>1966-01-01</th>\n",
       "      <td>6.159</td>\n",
       "      <td>6.025</td>\n",
       "      <td>6.025</td>\n",
       "      <td>10.100</td>\n",
       "    </tr>\n",
       "    <tr>\n",
       "      <th>1966-04-01</th>\n",
       "      <td>2.331</td>\n",
       "      <td>1.887</td>\n",
       "      <td>1.887</td>\n",
       "      <td>1.377</td>\n",
       "    </tr>\n",
       "    <tr>\n",
       "      <th>1966-07-01</th>\n",
       "      <td>4.551</td>\n",
       "      <td>3.654</td>\n",
       "      <td>3.654</td>\n",
       "      <td>3.434</td>\n",
       "    </tr>\n",
       "  </tbody>\n",
       "</table>\n",
       "</div>"
      ],
      "text/plain": [
       "            First  Second  Third  Most_Recent\n",
       "Date                                         \n",
       "1965-07-01  5.221   5.636  5.636        9.192\n",
       "1965-10-01  5.799   7.649  7.649        9.535\n",
       "1966-01-01  6.159   6.025  6.025       10.100\n",
       "1966-04-01  2.331   1.887  1.887        1.377\n",
       "1966-07-01  4.551   3.654  3.654        3.434"
      ]
     },
     "execution_count": 37,
     "metadata": {},
     "output_type": "execute_result"
    }
   ],
   "source": [
    "df = pd.read_csv('data/routput_first_second_third.csv')\n",
    "# split at \":\" and join with \"-\"\n",
    "df['Date'] = pd.to_datetime(df['Date'].str.split(':').str.join('-'))\n",
    "df = df.set_index('Date')\n",
    "df.head()"
   ]
  },
  {
   "cell_type": "code",
   "execution_count": 78,
   "metadata": {},
   "outputs": [
    {
     "data": {
      "text/html": [
       "<div>\n",
       "<style scoped>\n",
       "    .dataframe tbody tr th:only-of-type {\n",
       "        vertical-align: middle;\n",
       "    }\n",
       "\n",
       "    .dataframe tbody tr th {\n",
       "        vertical-align: top;\n",
       "    }\n",
       "\n",
       "    .dataframe thead th {\n",
       "        text-align: right;\n",
       "    }\n",
       "</style>\n",
       "<table border=\"1\" class=\"dataframe\">\n",
       "  <thead>\n",
       "    <tr style=\"text-align: right;\">\n",
       "      <th></th>\n",
       "      <th>MAR</th>\n",
       "      <th>count</th>\n",
       "    </tr>\n",
       "  </thead>\n",
       "  <tbody>\n",
       "    <tr>\n",
       "      <th>0</th>\n",
       "      <td>0.10-0.55</td>\n",
       "      <td>2</td>\n",
       "    </tr>\n",
       "    <tr>\n",
       "      <th>1</th>\n",
       "      <td>0.55-1.01</td>\n",
       "      <td>2</td>\n",
       "    </tr>\n",
       "    <tr>\n",
       "      <th>2</th>\n",
       "      <td>1.01-1.46</td>\n",
       "      <td>3</td>\n",
       "    </tr>\n",
       "    <tr>\n",
       "      <th>3</th>\n",
       "      <td>1.46-1.92</td>\n",
       "      <td>2</td>\n",
       "    </tr>\n",
       "    <tr>\n",
       "      <th>4</th>\n",
       "      <td>1.92-2.37</td>\n",
       "      <td>1</td>\n",
       "    </tr>\n",
       "    <tr>\n",
       "      <th>5</th>\n",
       "      <td>2.37-2.83</td>\n",
       "      <td>0</td>\n",
       "    </tr>\n",
       "    <tr>\n",
       "      <th>6</th>\n",
       "      <td>2.83-3.28</td>\n",
       "      <td>0</td>\n",
       "    </tr>\n",
       "    <tr>\n",
       "      <th>7</th>\n",
       "      <td>3.28-3.74</td>\n",
       "      <td>0</td>\n",
       "    </tr>\n",
       "    <tr>\n",
       "      <th>8</th>\n",
       "      <td>3.74-4.19</td>\n",
       "      <td>0</td>\n",
       "    </tr>\n",
       "    <tr>\n",
       "      <th>9</th>\n",
       "      <td>4.19-4.65</td>\n",
       "      <td>1</td>\n",
       "    </tr>\n",
       "  </tbody>\n",
       "</table>\n",
       "</div>"
      ],
      "text/plain": [
       "         MAR  count\n",
       "0  0.10-0.55      2\n",
       "1  0.55-1.01      2\n",
       "2  1.01-1.46      3\n",
       "3  1.46-1.92      2\n",
       "4  1.92-2.37      1\n",
       "5  2.37-2.83      0\n",
       "6  2.83-3.28      0\n",
       "7  3.28-3.74      0\n",
       "8  3.74-4.19      0\n",
       "9  4.19-4.65      1"
      ]
     },
     "execution_count": 78,
     "metadata": {},
     "output_type": "execute_result"
    }
   ],
   "source": [
    "df['MAR'] = (df['First'] - df['Most_Recent']).abs()\n",
    "\n",
    "# negative first & negative Most_Recent\n",
    "both_neg = df[(df.First < 0) & (df.Most_Recent <0) & (df.First > df.Most_Recent)]\n",
    "# print histogram of MARs\n",
    "count, division = np.histogram(both_neg['MAR'])\n",
    "bins = [f\"{x:.2f}-{y:.2f}\" for x, y in zip(division[:-1], division[1:])]\n",
    "# create dataframe from bins and count\n",
    "df_hist = pd.DataFrame({'MAR': bins, 'count': count})\n",
    "df_hist"
   ]
  },
  {
   "cell_type": "code",
   "execution_count": 92,
   "metadata": {},
   "outputs": [
    {
     "data": {
      "text/plain": [
       "(0.0, 4.0)"
      ]
     },
     "execution_count": 92,
     "metadata": {},
     "output_type": "execute_result"
    },
    {
     "data": {
      "image/png": "[encoded data removed]",
      "text/plain": [
       "<Figure size 720x360 with 1 Axes>"
      ]
     },
     "metadata": {
      "needs_background": "light"
     },
     "output_type": "display_data"
    }
   ],
   "source": [
    "# set fig size\n",
    "plt.figure(figsize=(10,5))\n",
    "plt.hist(both_neg['MAR'], color='darkgrey')\n",
    "plt.title('Absolute revisions for negative first and most recent')\n",
    "# set y-axis limit to 12\n",
    "plt.ylim(0,4)"
   ]
  },
  {
   "cell_type": "code",
   "execution_count": 85,
   "metadata": {},
   "outputs": [
    {
     "data": {
      "text/plain": [
       "4.648"
      ]
     },
     "execution_count": 85,
     "metadata": {},
     "output_type": "execute_result"
    }
   ],
   "source": [
    "both_neg.MAR.max()"
   ]
  },
  {
   "cell_type": "markdown",
   "metadata": {},
   "source": [
    "How many quarters there were where first real GDP estimate was >0, but the most recent was <0?"
   ]
  },
  {
   "cell_type": "code",
   "execution_count": 91,
   "metadata": {},
   "outputs": [
    {
     "data": {
      "text/html": [
       "<div>\n",
       "<style scoped>\n",
       "    .dataframe tbody tr th:only-of-type {\n",
       "        vertical-align: middle;\n",
       "    }\n",
       "\n",
       "    .dataframe tbody tr th {\n",
       "        vertical-align: top;\n",
       "    }\n",
       "\n",
       "    .dataframe thead th {\n",
       "        text-align: right;\n",
       "    }\n",
       "</style>\n",
       "<table border=\"1\" class=\"dataframe\">\n",
       "  <thead>\n",
       "    <tr style=\"text-align: right;\">\n",
       "      <th></th>\n",
       "      <th>Date</th>\n",
       "      <th>First</th>\n",
       "      <th>Second</th>\n",
       "      <th>Third</th>\n",
       "      <th>Most_Recent</th>\n",
       "    </tr>\n",
       "  </thead>\n",
       "  <tbody>\n",
       "    <tr>\n",
       "      <th>0</th>\n",
       "      <td>1973-07-01</td>\n",
       "      <td>3.546</td>\n",
       "      <td>3.399</td>\n",
       "      <td>3.399</td>\n",
       "      <td>-2.093</td>\n",
       "    </tr>\n",
       "    <tr>\n",
       "      <th>1</th>\n",
       "      <td>1980-07-01</td>\n",
       "      <td>0.998</td>\n",
       "      <td>0.883</td>\n",
       "      <td>2.372</td>\n",
       "      <td>-0.471</td>\n",
       "    </tr>\n",
       "    <tr>\n",
       "      <th>2</th>\n",
       "      <td>1982-07-01</td>\n",
       "      <td>0.760</td>\n",
       "      <td>0.000</td>\n",
       "      <td>0.733</td>\n",
       "      <td>-1.526</td>\n",
       "    </tr>\n",
       "    <tr>\n",
       "      <th>3</th>\n",
       "      <td>2001-01-01</td>\n",
       "      <td>1.982</td>\n",
       "      <td>1.318</td>\n",
       "      <td>1.245</td>\n",
       "      <td>-1.291</td>\n",
       "    </tr>\n",
       "    <tr>\n",
       "      <th>4</th>\n",
       "      <td>2008-01-01</td>\n",
       "      <td>0.597</td>\n",
       "      <td>0.901</td>\n",
       "      <td>0.959</td>\n",
       "      <td>-1.619</td>\n",
       "    </tr>\n",
       "    <tr>\n",
       "      <th>5</th>\n",
       "      <td>2011-01-01</td>\n",
       "      <td>1.748</td>\n",
       "      <td>1.842</td>\n",
       "      <td>1.915</td>\n",
       "      <td>-0.961</td>\n",
       "    </tr>\n",
       "    <tr>\n",
       "      <th>6</th>\n",
       "      <td>2011-07-01</td>\n",
       "      <td>2.464</td>\n",
       "      <td>2.004</td>\n",
       "      <td>1.815</td>\n",
       "      <td>-0.154</td>\n",
       "    </tr>\n",
       "    <tr>\n",
       "      <th>7</th>\n",
       "      <td>2014-01-01</td>\n",
       "      <td>0.108</td>\n",
       "      <td>-0.985</td>\n",
       "      <td>-2.930</td>\n",
       "      <td>-1.395</td>\n",
       "    </tr>\n",
       "  </tbody>\n",
       "</table>\n",
       "</div>"
      ],
      "text/plain": [
       "        Date  First  Second  Third  Most_Recent\n",
       "0 1973-07-01  3.546   3.399  3.399       -2.093\n",
       "1 1980-07-01  0.998   0.883  2.372       -0.471\n",
       "2 1982-07-01  0.760   0.000  0.733       -1.526\n",
       "3 2001-01-01  1.982   1.318  1.245       -1.291\n",
       "4 2008-01-01  0.597   0.901  0.959       -1.619\n",
       "5 2011-01-01  1.748   1.842  1.915       -0.961\n",
       "6 2011-07-01  2.464   2.004  1.815       -0.154\n",
       "7 2014-01-01  0.108  -0.985 -2.930       -1.395"
      ]
     },
     "execution_count": 91,
     "metadata": {},
     "output_type": "execute_result"
    }
   ],
   "source": [
    "df[['First', 'Second', 'Third', 'Most_Recent']][(df.First > 0) & (df.Most_Recent < 0)].reset_index()"
   ]
  }
 ],
 "metadata": {
  "interpreter": {
   "hash": "1c74feb3dcba01ec0253a70c26ccaf2ba5ca871d96017b34ae7445899c39a308"
  },
  "kernelspec": {
   "display_name": "Python 3.9.5 ('base')",
   "language": "python",
   "name": "python3"
  },
  "language_info": {
   "codemirror_mode": {
    "name": "ipython",
    "version": 3
   },
   "file_extension": ".py",
   "mimetype": "text/x-python",
   "name": "python",
   "nbconvert_exporter": "python",
   "pygments_lexer": "ipython3",
   "version": "3.9.5"
  },
  "orig_nbformat": 4
 },
 "nbformat": 4,
 "nbformat_minor": 2
}
